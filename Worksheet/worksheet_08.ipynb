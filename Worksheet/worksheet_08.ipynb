{
 "cells": [
  {
   "cell_type": "markdown",
   "metadata": {},
   "source": [
    "# Worksheet 08\n",
    "\n",
    "Name: Seunghwan Hyun \n",
    "UID: U68035800\n",
    "\n",
    "### Topics\n",
    "\n",
    "- Soft Clustering\n",
    "- Clustering Aggregation\n",
    "\n",
    "### Probability Review\n",
    "\n",
    "Read through [the following](https://medium.com/@gallettilance/overview-of-probability-3272b72c82c8)\n",
    "\n",
    "### Soft Clustering\n",
    "\n",
    "We generate 10 data points that come from a normal distribution with mean 5 and variance 1."
   ]
  },
  {
   "cell_type": "code",
   "execution_count": 6,
   "metadata": {},
   "outputs": [
    {
     "name": "stdout",
     "output_type": "stream",
     "text": [
      "[3.728410536389913, 5.240661234299919, 4.535804263448757, 4.4816759632183425, 6.341776772541695, 4.991508386458398, 4.488737516558339, 6.931109880755049, 4.93773406317554, 4.492510555298867]\n"
     ]
    }
   ],
   "source": [
    "import random\n",
    "import numpy as np\n",
    "from sklearn.cluster import KMeans\n",
    "\n",
    "mean = 5\n",
    "stdev = 1\n",
    "\n",
    "c1 = np.random.normal(mean, stdev, 10).tolist()\n",
    "print(c1)"
   ]
  },
  {
   "cell_type": "markdown",
   "metadata": {},
   "source": [
    "a) Generate 10 more data points, this time coming from a normal distribution with mean 8 and variance 1."
   ]
  },
  {
   "cell_type": "code",
   "execution_count": 5,
   "metadata": {},
   "outputs": [
    {
     "name": "stdout",
     "output_type": "stream",
     "text": [
      "[7.711907791674739, 7.836471672336735, 9.21015720873368, 8.902471946936904, 8.223568080419279, 8.95757948440642, 7.683701291221868, 7.709658821052411, 7.862613110445745, 10.154657353030172]\n"
     ]
    }
   ],
   "source": [
    "mean = 8\n",
    "stdev = 1\n",
    "c2 = np.random.normal(mean, stdev, 10).tolist()\n",
    "print(c2)"
   ]
  },
  {
   "cell_type": "markdown",
   "metadata": {},
   "source": [
    "b) Flip a fair coin 10 times. If the coin lands on H, then pick the last data point of `c1` and remove it from `c1`, if T then pick the last data point from `c2` and remove it from `c2`. Add these 10 points to a list called `data`."
   ]
  },
  {
   "cell_type": "code",
   "execution_count": 7,
   "metadata": {},
   "outputs": [
    {
     "name": "stdout",
     "output_type": "stream",
     "text": [
      "[10.154657353030172, 7.862613110445745, 4.492510555298867, 4.93773406317554, 7.709658821052411, 6.931109880755049, 7.683701291221868, 4.488737516558339, 4.991508386458398, 6.341776772541695]\n"
     ]
    }
   ],
   "source": [
    "data = []\n",
    "for i in range(10):\n",
    "    # flip coin\n",
    "    coin_output = random.choice([0, 1])\n",
    "    if coin_output == 0:\n",
    "        p1 = c1.pop()\n",
    "        data.append(p1)\n",
    "    else:\n",
    "        p2 = c2.pop()\n",
    "        data.append(p2)\n",
    "print(data)"
   ]
  },
  {
   "cell_type": "markdown",
   "metadata": {},
   "source": [
    "c) This `data` is a Gaussian Mixture Distribution with 2 mixture components. Over the next few questions we will walk through the GMM algorithm to see if we can uncover the parameters we used to generate this data. First, please list all these parameters of the GMM that created `data` and the values we know they have."
   ]
  },
  {
   "cell_type": "markdown",
   "metadata": {},
   "source": [
    "- number of distributions: 2\n",
    "- p(head) = p(tail) = 0.5\n",
    "- c1 ~ N(5, 1)\n",
    "- c2 ~ N(8, 1)\n",
    "- number of c1 samples and number of c2 samples in data"
   ]
  },
  {
   "cell_type": "markdown",
   "metadata": {},
   "source": [
    "d) Let's assume there are two mixture components (note: we could plot the data and make the observation that there are two clusters). The EM algorithm asks us to start with a random `mean_j`, `variance_j`, `P(C_j)` for each component j. One method we could use to find sensible values for these is to apply K means with k=2 here.\n",
    "\n",
    "1. the centroids would be the estimates of the `mean_j`\n",
    "2. the intra-cluster variance could be the estimate of `variance_j`\n",
    "3. the proportion of points in each cluster could be the estimate of `P(C_j)`\n",
    "\n",
    "Go through this process and list the parameter estimates it gives. Are they close or far from the true values?"
   ]
  },
  {
   "cell_type": "code",
   "execution_count": 11,
   "metadata": {},
   "outputs": [
    {
     "name": "stdout",
     "output_type": "stream",
     "text": [
      "[4.492510555298867, 4.93773406317554, 4.488737516558339, 4.991508386458398, 6.341776772541695]\n",
      "[10.154657353030172, 7.862613110445745, 7.709658821052411, 6.931109880755049, 7.683701291221868]\n",
      "P(C_1) = 0.5,  P(C_2) = 0.5\n",
      "mean_1 = 5.050453458806568,  mean_2 = 8.068348091301049\n",
      "var_1 = 0.4621042335303689,  var_2 = 1.192987023770555\n"
     ]
    }
   ],
   "source": [
    "kmeans = KMeans(2, init='k-means++').fit(X=np.array(data).reshape(-1, 1))\n",
    "\n",
    "c1 = [x[0] for x in filter(lambda x: x[1] == 0, zip(data, kmeans.labels_))]\n",
    "print(c1)\n",
    "c2 = [x[0] for x in filter(lambda x: x[1] != 0, zip(data, kmeans.labels_))]\n",
    "print(c2)\n",
    "\n",
    "prob_c = [ len(c1) / (len(c1) + len(c2)) , len(c2) / (len(c1) + len(c2))]\n",
    "mean = [ sum(c1)/len(c1) , sum(c2)/len(c2) ]\n",
    "var = [ sum(map(lambda x : (x - mean[0])**2, c1)) / len(c1) , sum(map(lambda x : (x - mean[1])**2, c2)) / len(c2) ]\n",
    "\n",
    "print(\"P(C_1) = \" + str(prob_c[0]) + \",  P(C_2) = \" + str(prob_c[1]))\n",
    "print(\"mean_1 = \" + str(mean[0]) + \",  mean_2 = \" + str(mean[1]))\n",
    "print(\"var_1 = \" + str(var[0]) + \",  var_2 = \" + str(var[1]))"
   ]
  },
  {
   "cell_type": "markdown",
   "metadata": {},
   "source": []
  },
  {
   "cell_type": "markdown",
   "metadata": {},
   "source": [
    "e) For each data point, compute `P(C_j | X_i)`. Comment on which cluster you think each point belongs to based on the estimated probabilities. How does that compare to the truth?"
   ]
  },
  {
   "cell_type": "code",
   "execution_count": 15,
   "metadata": {},
   "outputs": [
    {
     "name": "stdout",
     "output_type": "stream",
     "text": [
      "point =  10.154657353030172\n",
      "probability of observing that point if it came from cluster 0 =  2.77467532199211e-27\n",
      "probability of observing that point if it came from cluster 1 =  0.07247095710867461\n",
      "point =  7.862613110445745\n",
      "probability of observing that point if it came from cluster 0 =  7.840608615085516e-09\n",
      "probability of observing that point if it came from cluster 1 =  0.32947034402796865\n",
      "point =  4.492510555298867\n",
      "probability of observing that point if it came from cluster 0 =  0.4164967809609165\n",
      "probability of observing that point if it came from cluster 1 =  0.0037441993209332055\n",
      "point =  4.93773406317554\n",
      "probability of observing that point if it came from cluster 0 =  0.838011241517947\n",
      "probability of observing that point if it came from cluster 1 =  0.010688765063167951\n",
      "point =  7.709658821052411\n",
      "probability of observing that point if it came from cluster 0 =  5.563577054346872e-08\n",
      "probability of observing that point if it came from cluster 1 =  0.3196276748361721\n",
      "point =  6.931109880755049\n",
      "probability of observing that point if it came from cluster 0 =  0.0002185546996141704\n",
      "probability of observing that point if it came from cluster 1 =  0.2122988722061751\n",
      "point =  7.683701291221868\n",
      "probability of observing that point if it came from cluster 0 =  7.674561903378731e-08\n",
      "probability of observing that point if it came from cluster 1 =  0.3174683381543249\n",
      "point =  4.488737516558339\n",
      "probability of observing that point if it came from cluster 0 =  0.4123972650803\n",
      "probability of observing that point if it came from cluster 1 =  0.003708854347230088\n",
      "point =  4.991508386458398\n",
      "probability of observing that point if it came from cluster 0 =  0.8563216193506817\n",
      "probability of observing that point if it came from cluster 1 =  0.012018693370283095\n",
      "point =  6.341776772541695\n",
      "probability of observing that point if it came from cluster 0 =  0.017397551822094418\n",
      "probability of observing that point if it came from cluster 1 =  0.11733873305095219\n",
      "10.154657353030172\n",
      "Probability of coming from C_1 = 3.82867210906476e-26\n",
      "Probability of coming from C_2 = 1.0\n",
      "7.862613110445745\n",
      "Probability of coming from C_1 = 2.3797615083171623e-08\n",
      "Probability of coming from C_2 = 0.9999999762023849\n",
      "4.492510555298867\n",
      "Probability of coming from C_1 = 0.9910903517348022\n",
      "Probability of coming from C_2 = 0.0089096482651978\n",
      "4.93773406317554\n",
      "Probability of coming from C_1 = 0.9874057205369582\n",
      "Probability of coming from C_2 = 0.01259427946304177\n",
      "7.709658821052411\n",
      "Probability of coming from C_1 = 1.740642792830283e-07\n",
      "Probability of coming from C_2 = 0.9999998259357207\n",
      "6.931109880755049\n",
      "Probability of coming from C_1 = 0.0010284083653575265\n",
      "Probability of coming from C_2 = 0.9989715916346424\n",
      "7.683701291221868\n",
      "Probability of coming from C_1 = 2.4174253384537517e-07\n",
      "Probability of coming from C_2 = 0.9999997582574662\n",
      "4.488737516558339\n",
      "Probability of coming from C_1 = 0.9910867584636038\n",
      "Probability of coming from C_2 = 0.008913241536396175\n",
      "4.991508386458398\n",
      "Probability of coming from C_1 = 0.9861590056407468\n",
      "Probability of coming from C_2 = 0.01384099435925327\n",
      "6.341776772541695\n",
      "Probability of coming from C_1 = 0.12912298894456692\n",
      "Probability of coming from C_2 = 0.870877011055433\n"
     ]
    }
   ],
   "source": [
    "from scipy.stats import norm\n",
    "\n",
    "prob_c0_x = [] # P(C_0 | X_i)\n",
    "prob_c1_x = [] # P(C_1 | X_i)\n",
    "prob_x = [] # P(X_i)\n",
    "\n",
    "k = 2\n",
    "\n",
    "for p in data:\n",
    "    print(\"point = \", p)\n",
    "    pdf_i = []\n",
    "\n",
    "    for j in range(k):\n",
    "        # P(X_i | C_j)\n",
    "        pdf_i.append(norm.pdf(p, mean[j], var[j]))\n",
    "        print(\"probability of observing that point if it came from cluster \" + str(j) + \" = \", pdf_i[j])\n",
    "        # P(C_j) already computed\n",
    "        prob_c[j]\n",
    "\n",
    "    # P(X_i) = P(C_0)P(X_i | C_0) + P(C_1)P(X_i | C_1)\n",
    "    prob_x = prob_c[0] * pdf_i[0] + prob_c[1] * pdf_i[1]\n",
    "\n",
    "    # P(C_j | X_i) = P(X_i | C_j)P(C_j) / P(X_i)\n",
    "    prob_c0_x.append( pdf_i[0] * prob_c[0] / prob_x )\n",
    "    prob_c1_x.append( pdf_i[1] * prob_c[1] / prob_x )\n",
    "\n",
    "probs = zip(data, prob_c0_x, prob_c1_x)\n",
    "for p in probs:\n",
    "    print(p[0])\n",
    "    print(\"Probability of coming from C_1 = \" + str(p[1]))\n",
    "    print(\"Probability of coming from C_2 = \" + str(p[2]))\n"
   ]
  },
  {
   "cell_type": "markdown",
   "metadata": {},
   "source": [
    "- point =  10.154657353030172\n",
    "- probability of observing that point if it came from cluster 0 =  2.77467532199211e-27\n",
    "- probability of observing that point if it came from cluster 1 =  0.07247095710867461\n",
    "- point =  7.862613110445745\n",
    "- probability of observing that point if it came from cluster 0 =  7.840608615085516e-09\n",
    "- probability of observing that point if it came from cluster 1 =  0.32947034402796865\n",
    "- point =  4.492510555298867\n",
    "- probability of observing that point if it came from cluster 0 =  0.4164967809609165\n",
    "- probability of observing that point if it came from cluster 1 =  0.0037441993209332055\n",
    "- point =  4.93773406317554\n",
    "- probability of observing that point if it came from cluster 0 =  0.838011241517947\n",
    "- probability of observing that point if it came from cluster 1 =  0.010688765063167951\n",
    "- point =  7.709658821052411\n",
    "- probability of observing that point if it came from cluster 0 =  5.563577054346872e-08\n",
    "- probability of observing that point if it came from cluster 1 =  0.3196276748361721\n",
    "- point =  6.931109880755049\n",
    "- probability of observing that point if it came from cluster 0 =  0.0002185546996141704\n",
    "- probability of observing that point if it came from cluster 1 =  0.2122988722061751\n",
    "- point =  7.683701291221868\n",
    "- probability of observing that point if it came from cluster 0 =  7.674561903378731e-08\n",
    "- probability of observing that point if it came from cluster 1 =  0.3174683381543249\n",
    "- point =  4.488737516558339\n",
    "- probability of observing that point if it came from cluster 0 =  0.4123972650803\n",
    "- probability of observing that point if it came from cluster 1 =  0.003708854347230088\n",
    "- point =  4.991508386458398\n",
    "- probability of observing that point if it came from cluster 0 =  0.8563216193506817\n",
    "- probability of observing that point if it came from cluster 1 =  0.012018693370283095\n",
    "- point =  6.341776772541695\n",
    "- probability of observing that point if it came from cluster 0 =  0.017397551822094418\n",
    "- probability of observing that point if it came from cluster 1 =  0.11733873305095219\n",
    "- 10.154657353030172\n",
    "- Probability of coming from C_1 = 3.82867210906476e-26\n",
    "- Probability of coming from C_2 = 1.0\n",
    "- 7.862613110445745\n",
    "- Probability of coming from C_1 = 2.3797615083171623e-08\n",
    "- Probability of coming from C_2 = 0.9999999762023849\n",
    "- 4.492510555298867\n",
    "- Probability of coming from C_1 = 0.9910903517348022\n",
    "- Probability of coming from C_2 = 0.0089096482651978\n",
    "- 4.93773406317554\n",
    "- Probability of coming from C_1 = 0.9874057205369582\n",
    "- Probability of coming from C_2 = 0.01259427946304177\n",
    "- 7.709658821052411\n",
    "- Probability of coming from C_1 = 1.740642792830283e-07\n",
    "- Probability of coming from C_2 = 0.9999998259357207\n",
    "- 6.931109880755049\n",
    "- Probability of coming from C_1 = 0.0010284083653575265\n",
    "- Probability of coming from C_2 = 0.9989715916346424\n",
    "- 7.683701291221868\n",
    "- Probability of coming from C_1 = 2.4174253384537517e-07\n",
    "- Probability of coming from C_2 = 0.9999997582574662\n",
    "- 4.488737516558339\n",
    "- Probability of coming from C_1 = 0.9910867584636038\n",
    "- Probability of coming from C_2 = 0.008913241536396175\n",
    "- 4.991508386458398\n",
    "- Probability of coming from C_1 = 0.9861590056407468\n",
    "- Probability of coming from C_2 = 0.01384099435925327\n",
    "- 6.341776772541695\n",
    "- Probability of coming from C_1 = 0.12912298894456692\n",
    "- Probability of coming from C_2 = 0.870877011055433"
   ]
  },
  {
   "cell_type": "markdown",
   "metadata": {},
   "source": [
    "f) Having computed `P(C_j | X_i)`, update the estimates of `mean_j`, `var_j`, and `P(C_j)`. How different are these values from the original ones you got from K means? briefly comment."
   ]
  },
  {
   "cell_type": "code",
   "execution_count": 17,
   "metadata": {},
   "outputs": [
    {
     "name": "stdout",
     "output_type": "stream",
     "text": [
      "P(C_1) = 0.4085893673290464,  P(C_2) = 0.5914106326709536\n",
      "mean_1 = 4.778680533584128,  mean_2 = 7.789651495380194\n",
      "var_1 = 0.135681471837727,  var_2 = 1.4512712791104805\n"
     ]
    }
   ],
   "source": [
    "prob_c = [sum(prob_c0_x)/ len(prob_c0_x), sum(prob_c1_x)/ len(prob_c1_x) ]\n",
    "mean = [sum([x[0] * x[1] for x in zip(prob_c0_x, data)]) / sum(prob_c0_x), sum([x[0] * x[1] for x in zip(prob_c1_x, data)]) / sum(prob_c1_x)]\n",
    "var = [sum([(x - mean[0])**2 * prob for x, prob in zip(data, prob_c0_x)]) / sum(prob_c0_x), sum([(x - mean[1])**2 * prob for x, prob in zip(data, prob_c1_x)]) / sum(prob_c1_x)]\n",
    "\n",
    "print(\"P(C_1) = \" + str(prob_c[0]) + \",  P(C_2) = \" + str(prob_c[1]))\n",
    "print(\"mean_1 = \" + str(mean[0]) + \",  mean_2 = \" + str(mean[1]))\n",
    "print(\"var_1 = \" + str(var[0]) + \",  var_2 = \" + str(var[1]))"
   ]
  },
  {
   "cell_type": "markdown",
   "metadata": {},
   "source": []
  },
  {
   "cell_type": "markdown",
   "metadata": {},
   "source": [
    "g) Update `P(C_j | X_i)`. Comment on any differences or lack thereof you observe."
   ]
  },
  {
   "cell_type": "code",
   "execution_count": 18,
   "metadata": {},
   "outputs": [
    {
     "name": "stdout",
     "output_type": "stream",
     "text": [
      "point = 10.154657353030172\n",
      "probability of observing that point if it came from cluster 0 =  0.0\n",
      "probability of observing that point if it came from cluster 1 =  0.07286167826591154\n",
      "point = 7.862613110445745\n",
      "probability of observing that point if it came from cluster 0 =  1.9339384026514886e-112\n",
      "probability of observing that point if it came from cluster 1 =  0.2745444223073197\n",
      "point = 4.492510555298867\n",
      "probability of observing that point if it came from cluster 0 =  0.3179981387192021\n",
      "probability of observing that point if it came from cluster 1 =  0.020813786753167453\n",
      "point = 4.93773406317554\n",
      "probability of observing that point if it came from cluster 0 =  1.4790702923942882\n",
      "probability of observing that point if it came from cluster 1 =  0.03986644527908938\n",
      "point = 7.709658821052411\n",
      "probability of observing that point if it came from cluster 0 =  1.3749917216934424e-101\n",
      "probability of observing that point if it came from cluster 1 =  0.2744743393515317\n",
      "point = 6.931109880755049\n",
      "probability of observing that point if it came from cluster 0 =  6.619072186341099e-55\n",
      "probability of observing that point if it came from cluster 1 =  0.2307636373087332\n",
      "point = 7.683701291221868\n",
      "probability of observing that point if it came from cluster 0 =  8.417154730036432e-100\n",
      "probability of observing that point if it came from cluster 1 =  0.2741600217689726\n",
      "point = 4.488737516558339\n",
      "probability of observing that point if it came from cluster 0 =  0.2997677609409728\n",
      "probability of observing that point if it came from cluster 1 =  0.020691142159605918\n",
      "point = 4.991508386458398\n",
      "probability of observing that point if it came from cluster 0 =  0.8592271712931329\n",
      "probability of observing that point if it came from cluster 1 =  0.04284815110849138\n",
      "point = 6.341776772541695\n",
      "probability of observing that point if it came from cluster 0 =  4.456642277937848e-29\n",
      "probability of observing that point if it came from cluster 1 =  0.1671203967315245\n",
      "10.154657353030172\n",
      "Probability of coming from C_1 = 0.0\n",
      "Probability of coming from C_2 = 1.0\n",
      "\n",
      "7.862613110445745\n",
      "Probability of coming from C_1 = 4.86662569808472e-112\n",
      "Probability of coming from C_2 = 1.0\n",
      "\n",
      "4.492510555298867\n",
      "Probability of coming from C_1 = 0.9134597754331011\n",
      "Probability of coming from C_2 = 0.08654022456689886\n",
      "\n",
      "4.93773406317554\n",
      "Probability of coming from C_1 = 0.9624509152038315\n",
      "Probability of coming from C_2 = 0.037549084796168565\n",
      "\n",
      "7.709658821052411\n",
      "Probability of coming from C_1 = 3.460957511126487e-101\n",
      "Probability of coming from C_2 = 1.0\n",
      "\n",
      "6.931109880755049\n",
      "Probability of coming from C_1 = 1.9816532978468184e-54\n",
      "Probability of coming from C_2 = 1.0\n",
      "\n",
      "7.683701291221868\n",
      "Probability of coming from C_1 = 2.1210901026499996e-99\n",
      "Probability of coming from C_2 = 1.0\n",
      "\n",
      "4.488737516558339\n",
      "Probability of coming from C_1 = 0.909166693187319\n",
      "Probability of coming from C_2 = 0.09083330681268109\n",
      "\n",
      "4.991508386458398\n",
      "Probability of coming from C_1 = 0.9326778734513682\n",
      "Probability of coming from C_2 = 0.06732212654863172\n",
      "\n",
      "6.341776772541695\n",
      "Probability of coming from C_1 = 1.842367443376596e-28\n",
      "Probability of coming from C_2 = 1.0\n",
      "\n"
     ]
    }
   ],
   "source": [
    "prob_c0_x = [] \n",
    "prob_c1_x = [] \n",
    "prob_x = [] \n",
    "\n",
    "k = 2\n",
    "\n",
    "for p in data:\n",
    "    print(f\"point = {p}\")\n",
    "    pdf_i = []\n",
    "\n",
    "    for j in range(k):\n",
    "        pdf_i.append(norm.pdf(p, mean[j], var[j]))\n",
    "        print(\"probability of observing that point if it came from cluster \" + str(j) + \" = \", pdf_i[j])\n",
    "   \n",
    "        prob_c[j]\n",
    "\n",
    "    prob_x = prob_c[0] * pdf_i[0] + prob_c[1] * pdf_i[1]\n",
    "\n",
    "    prob_c0_x.append(pdf_i[0] * prob_c[0] / prob_x )\n",
    "    prob_c1_x.append(pdf_i[1] * prob_c[1] / prob_x )\n",
    "\n",
    "probs = zip(data, prob_c0_x, prob_c1_x)\n",
    "for p in probs:\n",
    "    print(p[0])\n",
    "    print(\"Probability of coming from C_1 = \" + str(p[1]))\n",
    "    print(\"Probability of coming from C_2 = \" + str(p[2]))\n",
    "    print()"
   ]
  },
  {
   "cell_type": "markdown",
   "metadata": {},
   "source": [
    "- point = 10.154657353030172\n",
    "- probability of observing that point if it came from cluster 0 =  0.0\n",
    "- probability of observing that point if it came from cluster 1 =  0.07286167826591154\n",
    "- point = 7.862613110445745\n",
    "- probability of observing that point if it came from cluster 0 =  1.9339384026514886e-112\n",
    "- probability of observing that point if it came from cluster 1 =  0.2745444223073197\n",
    "- point = 4.492510555298867\n",
    "- probability of observing that point if it came from cluster 0 =  0.3179981387192021\n",
    "- probability of observing that point if it came from cluster 1 =  0.020813786753167453\n",
    "- point = 4.93773406317554\n",
    "- probability of observing that point if it came from cluster 0 =  1.4790702923942882\n",
    "- probability of observing that point if it came from cluster 1 =  0.03986644527908938\n",
    "- point = 7.709658821052411\n",
    "- probability of observing that point if it came from cluster 0 =  1.3749917216934424e-101\n",
    "- probability of observing that point if it came from cluster 1 =  0.2744743393515317\n",
    "- point = 6.931109880755049\n",
    "- probability of observing that point if it came from cluster 0 =  6.619072186341099e-55\n",
    "- probability of observing that point if it came from cluster 1 =  0.2307636373087332\n",
    "- point = 7.683701291221868\n",
    "- probability of observing that point if it came from cluster 0 =  8.417154730036432e-100\n",
    "- probability of observing that point if it came from cluster 1 =  0.2741600217689726\n",
    "- point = 4.488737516558339\n",
    "- probability of observing that point if it came from cluster 0 =  0.2997677609409728\n",
    "- probability of observing that point if it came from cluster 1 =  0.020691142159605918\n",
    "- point = 4.991508386458398\n",
    "- probability of observing that point if it came from cluster 0 =  0.8592271712931329\n",
    "- probability of observing that point if it came from cluster 1 =  0.04284815110849138\n",
    "- point = 6.341776772541695\n",
    "- probability of observing that point if it came from cluster 0 =  4.456642277937848e-29\n",
    "- probability of observing that point if it came from cluster 1 =  0.1671203967315245\n",
    "- 10.154657353030172\n",
    "- Probability of coming from C_1 = 0.0\n",
    "- Probability of coming from C_2 = 1.0\n",
    "\n",
    "- 7.862613110445745\n",
    "- Probability of coming from C_1 = 4.86662569808472e-112\n",
    "- Probability of coming from C_2 = 1.0\n",
    "\n",
    "- 4.492510555298867\n",
    "- Probability of coming from C_1 = 0.9134597754331011\n",
    "- Probability of coming from C_2 = 0.08654022456689886\n",
    "\n",
    "- 4.93773406317554\n",
    "- Probability of coming from C_1 = 0.9624509152038315\n",
    "- Probability of coming from C_2 = 0.037549084796168565\n",
    "\n",
    "- 7.709658821052411\n",
    "- Probability of coming from C_1 = 3.460957511126487e-101\n",
    "- Probability of coming from C_2 = 1.0\n",
    "\n",
    "- 6.931109880755049\n",
    "- Probability of coming from C_1 = 1.9816532978468184e-54\n",
    "- Probability of coming from C_2 = 1.0\n",
    "\n",
    "- 7.683701291221868\n",
    "- Probability of coming from C_1 = 2.1210901026499996e-99\n",
    "- Probability of coming from C_2 = 1.0\n",
    "\n",
    "- 4.488737516558339\n",
    "- Probability of coming from C_1 = 0.909166693187319\n",
    "- Probability of coming from C_2 = 0.09083330681268109\n",
    "\n",
    "- 4.991508386458398\n",
    "- Probability of coming from C_1 = 0.9326778734513682\n",
    "- Probability of coming from C_2 = 0.06732212654863172\n",
    "\n",
    "- 6.341776772541695\n",
    "- Probability of coming from C_1 = 1.842367443376596e-28\n",
    "- Probability of coming from C_2 = 1.0"
   ]
  },
  {
   "cell_type": "markdown",
   "metadata": {},
   "source": [
    "h) Use `P(C_j | X_i)` to create a hard assignment - label each point as belonging to a specific cluster (0 or 1)"
   ]
  },
  {
   "cell_type": "code",
   "execution_count": 22,
   "metadata": {},
   "outputs": [
    {
     "name": "stdout",
     "output_type": "stream",
     "text": [
      "[1, 1, 0, 0, 1, 1, 1, 0, 0, 1]\n"
     ]
    }
   ],
   "source": [
    "assignments = []\n",
    "\n",
    "for i in zip(prob_c0_x, prob_c1_x):\n",
    "    p1, p2 = i\n",
    "    \n",
    "    if p1 > p2:\n",
    "        assignments.append(0)\n",
    "    else:\n",
    "        assignments.append(1)\n",
    "    \n",
    "print(assignments)"
   ]
  }
 ],
 "metadata": {
  "interpreter": {
   "hash": "76ca05dc3ea24b2e3b98cdb7774adfbb40773424bf5109b477fd793f623715af"
  },
  "kernelspec": {
   "display_name": "nlproberta",
   "language": "python",
   "name": "nlproberta"
  },
  "language_info": {
   "codemirror_mode": {
    "name": "ipython",
    "version": 3
   },
   "file_extension": ".py",
   "mimetype": "text/x-python",
   "name": "python",
   "nbconvert_exporter": "python",
   "pygments_lexer": "ipython3",
   "version": "3.9.7"
  },
  "orig_nbformat": 4
 },
 "nbformat": 4,
 "nbformat_minor": 2
}
