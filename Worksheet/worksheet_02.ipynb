{
 "cells": [
  {
   "cell_type": "markdown",
   "metadata": {},
   "source": [
    "# Worksheet 02\n",
    "\n",
    "Name: Seunghwan Hyun \n",
    "UID: U68035800\n",
    "\n",
    "### Topics\n",
    "\n",
    "- Effective Programming\n",
    "\n",
    "### Effective Programming\n",
    "\n",
    "a) What is a drawback of the top down approach?"
   ]
  },
  {
   "cell_type": "markdown",
   "metadata": {},
   "source": [
    "Start at the root and implement pseudocode. Pretend it exists, imagine helper functions will do the job one by one.\n",
    "Use type check to check for errors in typed languages.\n",
    "But you don't have runnable code until the very end."
   ]
  },
  {
   "cell_type": "markdown",
   "metadata": {},
   "source": [
    "b) What is a drawback of the bottom up approach?"
   ]
  },
  {
   "cell_type": "markdown",
   "metadata": {},
   "source": [
    "From the very component, you build up everything up to the final service.\n",
    "Because merging occurs step by step, finding errors is easier because it is easier to spot.\n",
    "But you have to know everything up front - end up implementing functions that is not used at the end"
   ]
  },
  {
   "cell_type": "markdown",
   "metadata": {},
   "source": [
    "c) What are 3 things you can do to have a better debugging experience?"
   ]
  },
  {
   "cell_type": "markdown",
   "metadata": {},
   "source": [
    "Solve the 80% correct and then refine. Not everything has to be perfect from the beginning. First start with 80% and build up from there.\n",
    "\n",
    "Boring code is good code so everything is simple and readable. Function should do one thing only.\n",
    "\n",
    "Re-read your code. If you can't understand what is happening, no one else can including your laptop."
   ]
  },
  {
   "cell_type": "code",
   "execution_count": null,
   "metadata": {},
   "outputs": [],
   "source": []
  },
  {
   "attachments": {},
   "cell_type": "markdown",
   "metadata": {},
   "source": [
    "d) Follow along with the live coding. You can write your code here:"
   ]
  },
  {
   "cell_type": "code",
   "execution_count": null,
   "metadata": {},
   "outputs": [],
   "source": [
    "class Board:\n",
    "    row = 0\n",
    "    col = 0\n",
    "\n",
    "    def __init__(self):\n",
    "        print('init')\n",
    "        self.board = [[\"-\" for _ in range(8)] for _ in range(8)]\n",
    "\n",
    "    def __repr__(self):\n",
    "        res = \"\"\n",
    "        for row in self.board:\n",
    "            for col in row:\n",
    "                res += col\n",
    "                res += \" \"\n",
    "            res += \"\\n\"\n",
    "        return res\n",
    "    \n",
    "    def is_legal_row(self, row, col):\n",
    "        for j in range(len(self.board)):\n",
    "            if self.board[row][j] == \"Q\":\n",
    "                return False\n",
    "        return True\n",
    "    \n",
    "    def is_legal_col(self, row, col):\n",
    "        for i in range(len(self.board)):\n",
    "            if self.board[i][col] == \"Q\":\n",
    "                return False\n",
    "        return True\n",
    "    \n",
    "    def is_on_board(self, row, col):\n",
    "        return row >= 0 and row < 8 and col >= 0 and col < 8\n",
    "    \n",
    "    def is_legal_diag(self, row, col):\n",
    "        for i in range(len(self.board)):\n",
    "            if self.is_on_board(row - i, col - i) and self.board[row - i][col - i] == \"Q\":\n",
    "                return False\n",
    "            if self.is_on_board(row - i, col + i) and self.board[row - i][col + i] == \"Q\":\n",
    "                return False\n",
    "            if self.is_on_board(row + i, col - i) and self.board[row + i][col - i] == \"Q\":\n",
    "                return False\n",
    "            if self.is_on_board(row + i, col + i) and self.board[row + i][col + i] == \"Q\":\n",
    "                return False\n",
    "        return True\n",
    "\n",
    "    def is_legal(self, row, col):\n",
    "        if not self.is_legal_row(row, col):\n",
    "            return False\n",
    "        if not self.is_legal_col(row, col):\n",
    "            return False\n",
    "        if not self.is_legal_diag(row, col):\n",
    "            return False\n",
    "        return True\n",
    "    \n",
    "    def set_queen_at(self, row, col):\n",
    "        self.board[row][col] = \"Q\"\n",
    "\n",
    "    def unset_queen_on(self, row):\n",
    "        self.board[row] = [\"_\" for _ in range(8)]\n",
    "\n",
    "    def get_queen_on(self, row):\n",
    "        for col in range(len(self.board)):\n",
    "            if self.board[row][col]== \"Q\":\n",
    "                return col\n",
    "        raise ValueError(\"programmer error\")\n",
    "\n",
    "    def search(self):   \n",
    "        row = 0\n",
    "        col = 0\n",
    "        while row >= 0:\n",
    "            if row < 8:\n",
    "                if self.is_legal(row, col):\n",
    "                    self.set_queen_at(row, col)\n",
    "                    row += 1\n",
    "                    col = 0\n",
    "                else:\n",
    "                    col += 1\n",
    "                    while col >= 8:\n",
    "                        col = self.get_queen_on(row - 1) # go to previous row\n",
    "                        self.unset_queen_on(row - 1)\n",
    "                        col += 1\n",
    "                        row -= 1\n",
    "            else:\n",
    "                print(\"found a solution\") # backtracked all cases and row is less than 0\n",
    "                print(self)\n",
    "\n",
    "print('start')\n",
    "my_board = Board()\n",
    "my_board.search()\n",
    "    "
   ]
  }
 ],
 "metadata": {
  "kernelspec": {
   "display_name": "nlproberta",
   "language": "python",
   "name": "nlproberta"
  },
  "language_info": {
   "codemirror_mode": {
    "name": "ipython",
    "version": 3
   },
   "file_extension": ".py",
   "mimetype": "text/x-python",
   "name": "python",
   "nbconvert_exporter": "python",
   "pygments_lexer": "ipython3",
   "version": "3.9.7"
  },
  "orig_nbformat": 4,
  "vscode": {
   "interpreter": {
    "hash": "76ca05dc3ea24b2e3b98cdb7774adfbb40773424bf5109b477fd793f623715af"
   }
  }
 },
 "nbformat": 4,
 "nbformat_minor": 2
}
